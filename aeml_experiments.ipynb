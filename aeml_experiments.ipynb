{
 "cells": [
  {
   "cell_type": "code",
   "execution_count": 1,
   "id": "d5ce3eb1-6140-4c77-9b9e-4931de5dd013",
   "metadata": {
    "editable": true,
    "slideshow": {
     "slide_type": ""
    },
    "tags": []
   },
   "outputs": [],
   "source": [
    "import copy\n",
    "import sys\n",
    "import math, random, numpy as np\n",
    "import json\n",
    "import datetime\n",
    "from pathlib import Path\n",
    "from matplotlib import pyplot as plt\n",
    "import torch\n",
    "from torch import nn, optim\n",
    "from torch.utils.data import DataLoader, Dataset\n",
    "from torch.nn import functional as F\n",
    "from torchvision import models, transforms as T\n",
    "from torchvision.utils import make_grid\n",
    "\n",
    "from sklearn.cluster import MiniBatchKMeans, KMeans\n",
    "from sklearn.decomposition import IncrementalPCA\n",
    "from sklearn.neighbors import NearestNeighbors\n",
    "from sklearn.metrics.cluster import normalized_mutual_info_score\n",
    "from tqdm import tqdm\n",
    "\n",
    "import torchvision.datasets as datasets\n",
    "from torch.utils.data import ConcatDataset\n",
    "import h5py\n",
    "from sklearn.manifold import TSNE\n",
    "import time"
   ]
  },
  {
   "cell_type": "code",
   "execution_count": 2,
   "id": "5b12b47c-59ee-4aba-a8e8-05b4db45b333",
   "metadata": {},
   "outputs": [],
   "source": [
    "%load_ext autoreload\n",
    "%autoreload 2"
   ]
  },
  {
   "cell_type": "code",
   "execution_count": 3,
   "id": "d8809859-920f-4b26-ab27-17f15be6334a",
   "metadata": {},
   "outputs": [],
   "source": [
    "from deep_clastering.datasets import LogatecDataset, LabeledGhentDataset, LabeledITSDataset \n",
    "from deep_clastering.cnn import AE_CNN_1D\n",
    "from deep_clastering.visualization import get_averaged_clusters, plot_averaged_clusters_spectograms\n",
    "from deep_clastering.visualization import plot_tsne, plot_labels_dist_across_clusters"
   ]
  },
  {
   "cell_type": "code",
   "execution_count": 4,
   "id": "edf42d16-cfd6-4ec2-9121-d0011735e6da",
   "metadata": {},
   "outputs": [
    {
     "name": "stdout",
     "output_type": "stream",
     "text": [
      "Current device:  0\n",
      "Current device:  True\n"
     ]
    }
   ],
   "source": [
    "# Setup GPU\n",
    "\n",
    "if torch.cuda.is_available():\n",
    "    torch.cuda.set_device(0)\n",
    "    device = torch.device('cuda')\n",
    "    torch.backends.cudnn.benchmark = False\n",
    "    pin_memory = True\n",
    "else:\n",
    "    device = torch.device('cpu')\n",
    "    pin_memory = False\n",
    "\n",
    "print(\"Current device: \", torch.cuda.current_device())  \n",
    "print(\"Current device: \", torch.cuda.is_available())  "
   ]
  },
  {
   "cell_type": "code",
   "execution_count": 5,
   "id": "68c534c1-78ae-4db7-b6d3-fe1888d8a4f5",
   "metadata": {},
   "outputs": [],
   "source": [
    "def get_lr(optimizer):\n",
    "    for param_group in optimizer.param_groups:\n",
    "        return param_group['lr']"
   ]
  },
  {
   "cell_type": "code",
   "execution_count": 6,
   "id": "b13c59a6-5a18-4ac8-b2c8-e15b68d51f75",
   "metadata": {},
   "outputs": [],
   "source": [
    "def distance_based_clustering_loss(features:torch.Tensor, clusters_centres:torch.Tensor):\n",
    "    \"\"\"\n",
    "    H. Zhou, J. Bai, Y. Wang, J. Ren, X. Yang, and L. Jiao, “Deep radio\n",
    "    signal clustering with interpretability analysis based on saliency map\" 2023\n",
    "    Algorithm 1\n",
    "    \n",
    "    Train weighted distances between samples and clusters centres.\n",
    "    \n",
    "    Weights are calculated to give the biggest penalty \n",
    "    to distance between a sample and it's nearest cluster. Weights are not trainable\n",
    "    \"\"\"\n",
    "    num_clusters = clusters_centres.shape[0]\n",
    "    num_samples = features.shape[0]\n",
    "    \n",
    "    # (num_clusters, num_samples, num_features)\n",
    "    \n",
    "    features = features.unsqueeze(0).repeat(num_clusters, 1, 1)\n",
    "    clusters_centres = clusters_centres.unsqueeze(1).repeat(1,num_samples,1)\n",
    "    \n",
    "    distances = ((features - clusters_centres)**2).sum(axis = 2)\n",
    "        \n",
    "    min_distances, _ = distances.detach().min(dim=0)\n",
    "    \n",
    "    min_distances = min_distances.unsqueeze(0).repeat(num_clusters, 1)\n",
    "    \n",
    "    exp_shifted_distances = torch.exp(-(distances - min_distances)).detach()\n",
    "    \n",
    "    exp_shifted_distances_sums = exp_shifted_distances.sum(axis = 0)\n",
    "    \n",
    "    weighted_distances = distances * exp_shifted_distances / exp_shifted_distances_sums\n",
    "    \n",
    "    return weighted_distances.mean()\n",
    "\n",
    "KLDiv_clustering_loss = nn.KLDivLoss()"
   ]
  },
  {
   "cell_type": "code",
   "execution_count": 7,
   "id": "5c9e57d2-50e0-4534-b7e5-597a37fb8abd",
   "metadata": {
    "editable": true,
    "slideshow": {
     "slide_type": ""
    },
    "tags": []
   },
   "outputs": [],
   "source": [
    "class ClusterlingLayer(nn.Module):\n",
    "    \"\"\"\n",
    "    Clustering layer definition (see DCEC article for equations)\n",
    "    \"\"\"\n",
    "    def __init__(self, in_features=10, out_features=10, alpha=1.0):\n",
    "        super(ClusterlingLayer, self).__init__()\n",
    "        self.in_features = in_features\n",
    "        self.out_features = out_features\n",
    "        self.alpha = alpha\n",
    "        self.weight = nn.Parameter(torch.Tensor(self.out_features, self.in_features))\n",
    "        self.weight = nn.init.xavier_uniform_(self.weight)\n",
    "\n",
    "    def forward(self, x):\n",
    "        x = x.unsqueeze(1) - self.weight\n",
    "        x = torch.mul(x, x)\n",
    "        x = torch.sum(x, dim=2)\n",
    "        x = 1.0 + (x / self.alpha)\n",
    "        x = 1.0 / x\n",
    "        x = x ** ((self.alpha +1.0) / 2.0)\n",
    "        x = torch.t(x) / torch.sum(x, dim=1)\n",
    "        x = torch.t(x)\n",
    "        return x\n",
    "\n",
    "    def extra_repr(self):\n",
    "        return 'in_features={}, out_features={}, alpha={}'.format(\n",
    "            self.in_features, self.out_features, self.alpha\n",
    "        )\n",
    "\n",
    "    def set_weight(self, tensor):\n",
    "        self.weight = nn.Parameter(tensor)\n",
    "\n",
    "# Function forwarding data through network, collecting clustering weight output and returning prediciotns and labels\n",
    "def calculate_predictions(model, clustering_layer, dataset, train_config):\n",
    "    \n",
    "    dataloader = DataLoader(\n",
    "        dataset, \n",
    "        num_workers=train_config['num_workers'], \n",
    "        batch_size=train_config['batch_size'], \n",
    "        shuffle=True)\n",
    "    \n",
    "    probs_array = []\n",
    "    label_array = []\n",
    "    preds = []\n",
    "    \n",
    "    model.eval()\n",
    "    clustering_layer.eval()\n",
    "    \n",
    "    for data in dataloader:\n",
    "        \n",
    "        inputs, labels = data\n",
    "        inputs = inputs.to(train_config['device'])\n",
    "        labels = labels.to(train_config['device'])\n",
    "        \n",
    "        outputs, features = model(inputs)\n",
    "        probs = clustering_layer(features)\n",
    "        \n",
    "        probs_array.append(probs.detach().cpu())\n",
    "        label_array.append(labels.cpu().detach())\n",
    "        \n",
    "    probs_array = torch.cat(probs_array).numpy()\n",
    "    \n",
    "    label_array = torch.cat(label_array).numpy()\n",
    "    \n",
    "    preds = np.argmax(probs_array, axis=1)\n",
    "    \n",
    "    return probs_array, label_array, preds\n",
    "\n",
    "def cacl_target_dist(out_distr):\n",
    "    tar_dist = out_distr ** 2 / np.sum(out_distr, axis=0)\n",
    "    tar_dist = np.transpose(np.transpose(tar_dist) / np.sum(tar_dist, axis=1))\n",
    "    return tar_dist"
   ]
  },
  {
   "cell_type": "code",
   "execution_count": 8,
   "id": "ccb9cd8f-0587-4f17-8ffe-365d4e80b7a6",
   "metadata": {},
   "outputs": [],
   "source": [
    "def extract_features(model:nn.Module, dataset:Dataset, train_config:dict)->torch.Tensor:\n",
    "    num_workers = train_config['num_workers']\n",
    "    batch_size = train_config['batch_size']\n",
    "    data_loader = DataLoader(dataset, \n",
    "                             batch_size=batch_size,\n",
    "                             num_workers=num_workers,\n",
    "                             shuffle=False)\n",
    "    model.eval()\n",
    "    features_list = []\n",
    "    for imgs, label in data_loader:\n",
    "        output, features = model(imgs.to(device))\n",
    "        features_list.append(features.detach().cpu())\n",
    "    \n",
    "    return torch.cat(features_list)\n",
    "    "
   ]
  },
  {
   "cell_type": "code",
   "execution_count": 9,
   "id": "743253b4-55c0-45e2-9fcf-6eed62b512cb",
   "metadata": {
    "editable": true,
    "slideshow": {
     "slide_type": ""
    },
    "tags": []
   },
   "outputs": [],
   "source": [
    "def train(\n",
    "    model, \n",
    "    dataset,\n",
    "    criterion_reconstruction, \n",
    "    scheduler, \n",
    "    optimizer, \n",
    "    train_config\n",
    "):\n",
    "    num_warmup_epochs = train_config['num_warmup_epochs']\n",
    "    num_train_epochs = train_config['num_train_epochs']\n",
    "    \n",
    "    num_workers = train_config['num_workers']\n",
    "    batch_size = train_config['batch_size']\n",
    "    \n",
    "    num_clusters = train_config['num_clusters']\n",
    "    clustres_centers = None\n",
    "    target_distribution = None\n",
    "    clastering_layer = None\n",
    "    \n",
    "    num_epochs_update_target_dist = train_config.get('update_target_dist_epochs')\n",
    "    \n",
    "    clastering_loss_type = train_config['clustring_loss_type']\n",
    "    clustering_loss_coeff = train_config['clustering_loss_coeff']\n",
    "\n",
    "    \n",
    "    if hasattr(dataset, 'name'):\n",
    "        dataset_name = dataset.name\n",
    "    else:\n",
    "        dataset_name = 'unknown_data'\n",
    "\n",
    "    if hasattr(model, 'name'):\n",
    "        model_name = model.name\n",
    "    else: \n",
    "        model_name = 'unknown_model'\n",
    "    \n",
    "    dataloader = DataLoader(dataset, \n",
    "                            batch_size=batch_size, \n",
    "                            num_workers=num_workers,\n",
    "                            shuffle=False)\n",
    "    \n",
    "    \n",
    "    init_time = time.time()\n",
    "\n",
    "    \n",
    "    d_t_string = datetime.datetime.now().strftime(\"%H_%M_%S_%d_%m_%Y\")\n",
    "    \n",
    "    SAVE_MODEL_PATH = (\n",
    "        f\"/results/models/{model_name}_{dataset_name}_e_warm{num_warmup_epochs}\"\n",
    "        f\"_e_train{num_train_epochs}_coeff_{clustering_loss_coeff}_\"\n",
    "        f\"{clastering_loss_type}_{d_t_string}.pt\")\n",
    "    \n",
    "    epoch_losses = []\n",
    "    c_epoch_losses = []\n",
    "    \n",
    "    \n",
    "    for epoch in range(num_warmup_epochs + num_train_epochs):\n",
    "        print('training: \\t Epoch {}/{}'.format(epoch + 1, num_warmup_epochs+ num_train_epochs))\n",
    "    \n",
    "        model.train(True)\n",
    "\n",
    "        running_loss = 0.0\n",
    "        \n",
    "        # Keep the batch number for inter-phase statistics\n",
    "        batch_num = 1\n",
    "        \n",
    "        # Images to show\n",
    "        img_counter = 0\n",
    "        c_running_loss = 0\n",
    "        \n",
    "        # Progress bar for easier tracking of the status\n",
    "        pbar = tqdm(dataloader, desc='training', unit='batch')\n",
    "        \n",
    "        times = []\n",
    "        \n",
    "        if epoch == num_warmup_epochs:\n",
    "            #init clusters_centres\n",
    "            \n",
    "            if clastering_loss_type == 'distance_based':\n",
    "                \n",
    "                kmeans = MiniBatchKMeans(n_clusters=num_clusters, \n",
    "                                          batch_size=256, \n",
    "                                          init_size=3*train_config['num_clusters'], \n",
    "                                          n_init=3)\n",
    "                \n",
    "                features = extract_features(model, dataset, train_config)\n",
    "                kmeans.fit_predict(features)\n",
    "                init_clusters = kmeans.cluster_centers_\n",
    "                clustres_centers = torch.from_numpy(init_clusters).to(device)\n",
    "                \n",
    "            if clastering_loss_type == 'KLDivLoss':\n",
    "                clastering_layer = ClusterlingLayer()\n",
    "                clastering_layer.to(device)\n",
    "\n",
    "        # update tagret distr\n",
    "        if (epoch >= num_warmup_epochs and \n",
    "            clastering_loss_type == 'KLDivLoss' and\n",
    "            (epoch - num_warmup_epochs) % num_epochs_update_target_dist == 0):\n",
    "            output_distribution, labels, preds =\\\n",
    "            calculate_predictions(model, clastering_layer, dataset, train_config)\n",
    "                \n",
    "            target_distribution = cacl_target_dist(output_distribution)\n",
    "                \n",
    "        # Iterate over data.\n",
    "        for inputs, labels in pbar:\n",
    "\n",
    "            inputs = inputs.to(device)\n",
    "            labels = labels.to(device)\n",
    "            \n",
    "            # zero the parameter gradients\n",
    "            optimizer.zero_grad()\n",
    "            \n",
    "            outputs, features = model(inputs)\n",
    "            loss = criterion_reconstruction(outputs, inputs)\n",
    "            loss.backward(retain_graph=True)\n",
    "            \n",
    "            if epoch >= num_warmup_epochs:\n",
    "                \n",
    "                if clastering_loss_type == 'distance_based':\n",
    "                    \n",
    "                    c_loss = distance_based_clustering_loss(features, clustres_centers)\n",
    "                    \n",
    "                if clastering_loss_type == 'KLDivLoss':\n",
    "                    \n",
    "                    clusters = clastering_layer(features)\n",
    "                    \n",
    "                    cur_dist =\\\n",
    "                    target_distribution[\n",
    "                        (batch_num - 1) * batch_size : batch_num * batch_size]\n",
    "                    \n",
    "                    cur_dist =  torch.from_numpy(cur_dist).to(device)\n",
    "                    \n",
    "                    c_loss = KLDiv_clustering_loss(torch.log(clusters), cur_dist)\n",
    "                \n",
    "                (c_loss * clustering_loss_coeff).backward()\n",
    "                \n",
    "                c_running_loss += c_loss.item() * inputs.size(0)\n",
    "\n",
    "                # Some current stats\n",
    "                c_loss_batch = c_loss.item()\n",
    "                c_loss_accum = c_running_loss / ((batch_num - 1) * batch_size + inputs.size(0))\n",
    "            \n",
    "            # For keeping statistics\n",
    "            running_loss += loss.item() * inputs.size(0)\n",
    "\n",
    "            # Some current stats\n",
    "            loss_batch = loss.item()\n",
    "            loss_accum = running_loss / ((batch_num - 1) * batch_size + inputs.size(0))\n",
    "                \n",
    "            batch_num = batch_num + 1\n",
    "            \n",
    "            optimizer.step()\n",
    "              \n",
    "        print(\"--- %s seconds calculation of clustering loss per epoch---\" % (sum(times)))\n",
    "        epoch_loss = running_loss / len(dataset)\n",
    "        c_epoch_loss = c_running_loss / len(dataset)\n",
    "\n",
    "        print('Reconstruction loss: \\t Loss: {:.4f}'.format(epoch_loss))\n",
    "        epoch_losses.append(epoch_loss)\n",
    "        \n",
    "        if epoch >= num_warmup_epochs:\n",
    "            print('Clustering loss: \\t Loss: {:.4f}'.format(c_epoch_loss))\n",
    "            c_epoch_losses.append(c_epoch_loss)\n",
    "    \n",
    "    # Update scheduler\n",
    "    scheduler.step()\n",
    "    \n",
    "    time_elapsed = time.time() - init_time\n",
    "    print('Pretraining complete in {:.0f}m {:.0f}s'.format(\n",
    "        time_elapsed // 60, time_elapsed % 60))\n",
    "\n",
    "    # Save the current model state.\n",
    "    torch.save({\n",
    "            'epoch': epoch,\n",
    "            'model_state_dict': model.state_dict(),\n",
    "            'optimizer_state_dict': optimizer.state_dict(),\n",
    "            'reconstruction_loss': epoch_losses,\n",
    "            'clustering_loss' : c_epoch_losses\n",
    "            }, SAVE_MODEL_PATH) \n",
    "\n",
    "    return model, epoch_losses, c_epoch_losses, clustres_centers\n",
    "    "
   ]
  },
  {
   "cell_type": "code",
   "execution_count": null,
   "id": "7c806034-ae88-4c5b-9ff2-a96d6a806af9",
   "metadata": {},
   "outputs": [],
   "source": []
  },
  {
   "cell_type": "code",
   "execution_count": 10,
   "id": "000e3207-2850-4f91-8026-348b1ceecda4",
   "metadata": {},
   "outputs": [],
   "source": [
    "LABELED_DATASET_PATH = '/data/TCD/labeled_data_ghent.h5'\n",
    "LOGATEC_DATASET_PATH = '/data/LOG-a-TEC/test_data.h5'\n",
    "LABELED_ITS_DATASET_PATH = '/data/ITS/labeled_data_ITS_band.h5'"
   ]
  },
  {
   "cell_type": "code",
   "execution_count": 13,
   "id": "0b8aca5d-71e7-4c86-b812-03e4050826dc",
   "metadata": {
    "editable": true,
    "slideshow": {
     "slide_type": ""
    },
    "tags": []
   },
   "outputs": [],
   "source": [
    "train_config = {\n",
    "    'num_warmup_epochs': 4,\n",
    "    'num_train_epochs': 10,\n",
    "    'clustring_loss_type': 'KLDivLoss', # KLDivLoss, distance_based\n",
    "    'num_workers': 12,\n",
    "    'batch_size': 1024,\n",
    "    'num_clusters': 10,\n",
    "    'update_target_dist_epochs': 5,\n",
    "    'clustering_loss_coeff': 0.1,\n",
    "    'device': device\n",
    "}"
   ]
  },
  {
   "cell_type": "code",
   "execution_count": 14,
   "id": "37067990-e75b-436d-8d32-dad0130ea347",
   "metadata": {
    "scrolled": true,
    "tags": []
   },
   "outputs": [
    {
     "name": "stdout",
     "output_type": "stream",
     "text": [
      "training: \t Epoch 1/14\n"
     ]
    },
    {
     "name": "stderr",
     "output_type": "stream",
     "text": [
      "training: 100%|██████████| 172/172 [00:13<00:00, 12.72batch/s]\n"
     ]
    },
    {
     "name": "stdout",
     "output_type": "stream",
     "text": [
      "--- 0 seconds calculation of clustering loss per epoch---\n",
      "Reconstruction loss: \t Loss: 0.0344\n",
      "training: \t Epoch 2/14\n"
     ]
    },
    {
     "name": "stderr",
     "output_type": "stream",
     "text": [
      "training: 100%|██████████| 172/172 [00:13<00:00, 12.53batch/s]\n"
     ]
    },
    {
     "name": "stdout",
     "output_type": "stream",
     "text": [
      "--- 0 seconds calculation of clustering loss per epoch---\n",
      "Reconstruction loss: \t Loss: 0.0340\n",
      "training: \t Epoch 3/14\n"
     ]
    },
    {
     "name": "stderr",
     "output_type": "stream",
     "text": [
      "training: 100%|██████████| 172/172 [00:13<00:00, 13.12batch/s]\n"
     ]
    },
    {
     "name": "stdout",
     "output_type": "stream",
     "text": [
      "--- 0 seconds calculation of clustering loss per epoch---\n",
      "Reconstruction loss: \t Loss: 0.0336\n",
      "training: \t Epoch 4/14\n"
     ]
    },
    {
     "name": "stderr",
     "output_type": "stream",
     "text": [
      "training: 100%|██████████| 172/172 [00:13<00:00, 13.06batch/s]\n"
     ]
    },
    {
     "name": "stdout",
     "output_type": "stream",
     "text": [
      "--- 0 seconds calculation of clustering loss per epoch---\n",
      "Reconstruction loss: \t Loss: 0.0328\n",
      "training: \t Epoch 5/14\n"
     ]
    },
    {
     "name": "stderr",
     "output_type": "stream",
     "text": [
      "training:   0%|          | 0/172 [00:00<?, ?batch/s]/opt/conda/lib/python3.11/site-packages/torch/nn/functional.py:2949: UserWarning: reduction: 'mean' divides the total loss by both the batch size and the support size.'batchmean' divides only by the batch size, and aligns with the KL div math definition.'mean' will be changed to behave the same as 'batchmean' in the next major release.\n",
      "  warnings.warn(\n",
      "training: 100%|██████████| 172/172 [00:27<00:00,  6.28batch/s]\n"
     ]
    },
    {
     "name": "stdout",
     "output_type": "stream",
     "text": [
      "--- 0 seconds calculation of clustering loss per epoch---\n",
      "Reconstruction loss: \t Loss: 0.0297\n",
      "Clustering loss: \t Loss: 0.0031\n",
      "training: \t Epoch 6/14\n"
     ]
    },
    {
     "name": "stderr",
     "output_type": "stream",
     "text": [
      "training: 100%|██████████| 172/172 [00:14<00:00, 12.20batch/s]\n"
     ]
    },
    {
     "name": "stdout",
     "output_type": "stream",
     "text": [
      "--- 0 seconds calculation of clustering loss per epoch---\n",
      "Reconstruction loss: \t Loss: 0.0315\n",
      "Clustering loss: \t Loss: 0.0025\n",
      "training: \t Epoch 7/14\n"
     ]
    },
    {
     "name": "stderr",
     "output_type": "stream",
     "text": [
      "training: 100%|██████████| 172/172 [00:13<00:00, 12.58batch/s]\n"
     ]
    },
    {
     "name": "stdout",
     "output_type": "stream",
     "text": [
      "--- 0 seconds calculation of clustering loss per epoch---\n",
      "Reconstruction loss: \t Loss: 0.0306\n",
      "Clustering loss: \t Loss: 0.0023\n",
      "training: \t Epoch 8/14\n"
     ]
    },
    {
     "name": "stderr",
     "output_type": "stream",
     "text": [
      "training: 100%|██████████| 172/172 [00:13<00:00, 12.64batch/s]\n"
     ]
    },
    {
     "name": "stdout",
     "output_type": "stream",
     "text": [
      "--- 0 seconds calculation of clustering loss per epoch---\n",
      "Reconstruction loss: \t Loss: 0.0297\n",
      "Clustering loss: \t Loss: 0.0023\n",
      "training: \t Epoch 9/14\n"
     ]
    },
    {
     "name": "stderr",
     "output_type": "stream",
     "text": [
      "training: 100%|██████████| 172/172 [00:13<00:00, 13.15batch/s]\n"
     ]
    },
    {
     "name": "stdout",
     "output_type": "stream",
     "text": [
      "--- 0 seconds calculation of clustering loss per epoch---\n",
      "Reconstruction loss: \t Loss: 0.0289\n",
      "Clustering loss: \t Loss: 0.0023\n",
      "training: \t Epoch 10/14\n"
     ]
    },
    {
     "name": "stderr",
     "output_type": "stream",
     "text": [
      "training: 100%|██████████| 172/172 [00:25<00:00,  6.68batch/s]\n"
     ]
    },
    {
     "name": "stdout",
     "output_type": "stream",
     "text": [
      "--- 0 seconds calculation of clustering loss per epoch---\n",
      "Reconstruction loss: \t Loss: 0.0246\n",
      "Clustering loss: \t Loss: 0.0034\n",
      "training: \t Epoch 11/14\n"
     ]
    },
    {
     "name": "stderr",
     "output_type": "stream",
     "text": [
      "training: 100%|██████████| 172/172 [00:12<00:00, 13.72batch/s]\n"
     ]
    },
    {
     "name": "stdout",
     "output_type": "stream",
     "text": [
      "--- 0 seconds calculation of clustering loss per epoch---\n",
      "Reconstruction loss: \t Loss: 0.0276\n",
      "Clustering loss: \t Loss: 0.0028\n",
      "training: \t Epoch 12/14\n"
     ]
    },
    {
     "name": "stderr",
     "output_type": "stream",
     "text": [
      "training: 100%|██████████| 172/172 [00:12<00:00, 13.68batch/s]\n"
     ]
    },
    {
     "name": "stdout",
     "output_type": "stream",
     "text": [
      "--- 0 seconds calculation of clustering loss per epoch---\n",
      "Reconstruction loss: \t Loss: 0.0270\n",
      "Clustering loss: \t Loss: 0.0028\n",
      "training: \t Epoch 13/14\n"
     ]
    },
    {
     "name": "stderr",
     "output_type": "stream",
     "text": [
      "training: 100%|██████████| 172/172 [00:12<00:00, 13.55batch/s]\n"
     ]
    },
    {
     "name": "stdout",
     "output_type": "stream",
     "text": [
      "--- 0 seconds calculation of clustering loss per epoch---\n",
      "Reconstruction loss: \t Loss: 0.0263\n",
      "Clustering loss: \t Loss: 0.0028\n",
      "training: \t Epoch 14/14\n"
     ]
    },
    {
     "name": "stderr",
     "output_type": "stream",
     "text": [
      "training: 100%|██████████| 172/172 [00:13<00:00, 13.07batch/s]"
     ]
    },
    {
     "name": "stdout",
     "output_type": "stream",
     "text": [
      "--- 0 seconds calculation of clustering loss per epoch---\n",
      "Reconstruction loss: \t Loss: 0.0258\n",
      "Clustering loss: \t Loss: 0.0027\n",
      "Pretraining complete in 3m 32s\n"
     ]
    },
    {
     "name": "stderr",
     "output_type": "stream",
     "text": [
      "\n"
     ]
    }
   ],
   "source": [
    "model = AE_CNN_1D()\n",
    "model.to(device)\n",
    "\n",
    "train_dataset = LabeledGhentDataset(LABELED_DATASET_PATH, transform=torch.tensor, scale=True)\n",
    "optimizer = optim.AdamW(model.parameters(), lr=1e-5)\n",
    "\n",
    "# Reconstruction loss\n",
    "criterion = nn.MSELoss()\n",
    "scheduler = optim.lr_scheduler.StepLR(optimizer, step_size=200, gamma=0.1)\n",
    "\n",
    "model, loss, c_loss, cluster_centres \\\n",
    "= train(model, train_dataset, criterion, scheduler, optimizer, train_config)\n"
   ]
  },
  {
   "cell_type": "code",
   "execution_count": 15,
   "id": "dfbe5897-7192-43c8-88a9-b1d5f72b0f6f",
   "metadata": {},
   "outputs": [],
   "source": [
    "features = extract_features(model, train_dataset, train_config)"
   ]
  },
  {
   "cell_type": "code",
   "execution_count": 16,
   "id": "87de4c8e-68ba-4df6-9141-77edabf3406a",
   "metadata": {},
   "outputs": [],
   "source": [
    "kmeans = MiniBatchKMeans(\n",
    "        n_clusters=train_config['num_clusters'], \n",
    "        batch_size=256,\n",
    "        init_size=3*train_config['num_clusters'], \n",
    "        n_init=3)\n",
    "labels = kmeans.fit_predict(features)"
   ]
  },
  {
   "cell_type": "code",
   "execution_count": 17,
   "id": "11e9baba-db05-43de-b1fd-f6d621485e13",
   "metadata": {},
   "outputs": [
    {
     "data": {
      "text/plain": [
       "(<Figure size 640x480 with 1 Axes>, <Axes: >)"
      ]
     },
     "execution_count": 17,
     "metadata": {},
     "output_type": "execute_result"
    },
    {
     "data": {
      "image/png": "[encoded data removed]",
      "text/plain": [
       "<Figure size 640x480 with 1 Axes>"
      ]
     },
     "metadata": {},
     "output_type": "display_data"
    }
   ],
   "source": [
    "selected_ids = np.random.choice(len(train_dataset), size = 10000)\n",
    "plot_tsne(labels[selected_ids], features[selected_ids])"
   ]
  },
  {
   "cell_type": "code",
   "execution_count": 11,
   "id": "d3ebac56-70d5-4a25-a849-8397ae72497a",
   "metadata": {},
   "outputs": [
    {
     "name": "stdout",
     "output_type": "stream",
     "text": [
      "training: \t Epoch 1/24\n"
     ]
    },
    {
     "name": "stderr",
     "output_type": "stream",
     "text": [
      "training: 100%|██████████| 172/172 [00:12<00:00, 13.49batch/s]\n"
     ]
    },
    {
     "name": "stdout",
     "output_type": "stream",
     "text": [
      "--- 0 seconds calculation of clustering loss per epoch---\n",
      "Reconstruction loss: \t Loss: 0.0304\n",
      "training: \t Epoch 2/24\n"
     ]
    },
    {
     "name": "stderr",
     "output_type": "stream",
     "text": [
      "training: 100%|██████████| 172/172 [00:13<00:00, 12.74batch/s]\n"
     ]
    },
    {
     "name": "stdout",
     "output_type": "stream",
     "text": [
      "--- 0 seconds calculation of clustering loss per epoch---\n",
      "Reconstruction loss: \t Loss: 0.0287\n",
      "training: \t Epoch 3/24\n"
     ]
    },
    {
     "name": "stderr",
     "output_type": "stream",
     "text": [
      "training: 100%|██████████| 172/172 [00:12<00:00, 13.79batch/s]\n"
     ]
    },
    {
     "name": "stdout",
     "output_type": "stream",
     "text": [
      "--- 0 seconds calculation of clustering loss per epoch---\n",
      "Reconstruction loss: \t Loss: 0.0270\n",
      "training: \t Epoch 4/24\n"
     ]
    },
    {
     "name": "stderr",
     "output_type": "stream",
     "text": [
      "training: 100%|██████████| 172/172 [00:12<00:00, 13.38batch/s]\n"
     ]
    },
    {
     "name": "stdout",
     "output_type": "stream",
     "text": [
      "--- 0 seconds calculation of clustering loss per epoch---\n",
      "Reconstruction loss: \t Loss: 0.0256\n",
      "training: \t Epoch 5/24\n"
     ]
    },
    {
     "name": "stderr",
     "output_type": "stream",
     "text": [
      "training: 100%|██████████| 172/172 [00:26<00:00,  6.45batch/s]\n"
     ]
    },
    {
     "name": "stdout",
     "output_type": "stream",
     "text": [
      "--- 0 seconds calculation of clustering loss per epoch---\n",
      "Reconstruction loss: \t Loss: 0.0269\n",
      "Clustering loss: \t Loss: 0.0464\n",
      "training: \t Epoch 6/24\n"
     ]
    },
    {
     "name": "stderr",
     "output_type": "stream",
     "text": [
      "training: 100%|██████████| 172/172 [00:12<00:00, 13.30batch/s]\n"
     ]
    },
    {
     "name": "stdout",
     "output_type": "stream",
     "text": [
      "--- 0 seconds calculation of clustering loss per epoch---\n",
      "Reconstruction loss: \t Loss: 0.0251\n",
      "Clustering loss: \t Loss: 0.0389\n",
      "training: \t Epoch 7/24\n"
     ]
    },
    {
     "name": "stderr",
     "output_type": "stream",
     "text": [
      "training: 100%|██████████| 172/172 [00:13<00:00, 13.08batch/s]\n"
     ]
    },
    {
     "name": "stdout",
     "output_type": "stream",
     "text": [
      "--- 0 seconds calculation of clustering loss per epoch---\n",
      "Reconstruction loss: \t Loss: 0.0241\n",
      "Clustering loss: \t Loss: 0.0385\n",
      "training: \t Epoch 8/24\n"
     ]
    },
    {
     "name": "stderr",
     "output_type": "stream",
     "text": [
      "training: 100%|██████████| 172/172 [00:13<00:00, 12.50batch/s]\n"
     ]
    },
    {
     "name": "stdout",
     "output_type": "stream",
     "text": [
      "--- 0 seconds calculation of clustering loss per epoch---\n",
      "Reconstruction loss: \t Loss: 0.0233\n",
      "Clustering loss: \t Loss: 0.0378\n",
      "training: \t Epoch 9/24\n"
     ]
    },
    {
     "name": "stderr",
     "output_type": "stream",
     "text": [
      "training: 100%|██████████| 172/172 [00:16<00:00, 10.58batch/s]\n"
     ]
    },
    {
     "name": "stdout",
     "output_type": "stream",
     "text": [
      "--- 0 seconds calculation of clustering loss per epoch---\n",
      "Reconstruction loss: \t Loss: 0.0226\n",
      "Clustering loss: \t Loss: 0.0373\n",
      "training: \t Epoch 10/24\n"
     ]
    },
    {
     "name": "stderr",
     "output_type": "stream",
     "text": [
      "training: 100%|██████████| 172/172 [00:14<00:00, 11.91batch/s]\n"
     ]
    },
    {
     "name": "stdout",
     "output_type": "stream",
     "text": [
      "--- 0 seconds calculation of clustering loss per epoch---\n",
      "Reconstruction loss: \t Loss: 0.0220\n",
      "Clustering loss: \t Loss: 0.0369\n",
      "training: \t Epoch 11/24\n"
     ]
    },
    {
     "name": "stderr",
     "output_type": "stream",
     "text": [
      "training: 100%|██████████| 172/172 [00:13<00:00, 12.91batch/s]\n"
     ]
    },
    {
     "name": "stdout",
     "output_type": "stream",
     "text": [
      "--- 0 seconds calculation of clustering loss per epoch---\n",
      "Reconstruction loss: \t Loss: 0.0214\n",
      "Clustering loss: \t Loss: 0.0365\n",
      "training: \t Epoch 12/24\n"
     ]
    },
    {
     "name": "stderr",
     "output_type": "stream",
     "text": [
      "training: 100%|██████████| 172/172 [00:13<00:00, 13.07batch/s]\n"
     ]
    },
    {
     "name": "stdout",
     "output_type": "stream",
     "text": [
      "--- 0 seconds calculation of clustering loss per epoch---\n",
      "Reconstruction loss: \t Loss: 0.0208\n",
      "Clustering loss: \t Loss: 0.0362\n",
      "training: \t Epoch 13/24\n"
     ]
    },
    {
     "name": "stderr",
     "output_type": "stream",
     "text": [
      "training: 100%|██████████| 172/172 [00:14<00:00, 12.14batch/s]\n"
     ]
    },
    {
     "name": "stdout",
     "output_type": "stream",
     "text": [
      "--- 0 seconds calculation of clustering loss per epoch---\n",
      "Reconstruction loss: \t Loss: 0.0202\n",
      "Clustering loss: \t Loss: 0.0358\n",
      "training: \t Epoch 14/24\n"
     ]
    },
    {
     "name": "stderr",
     "output_type": "stream",
     "text": [
      "training: 100%|██████████| 172/172 [00:14<00:00, 12.27batch/s]\n"
     ]
    },
    {
     "name": "stdout",
     "output_type": "stream",
     "text": [
      "--- 0 seconds calculation of clustering loss per epoch---\n",
      "Reconstruction loss: \t Loss: 0.0197\n",
      "Clustering loss: \t Loss: 0.0354\n",
      "training: \t Epoch 15/24\n"
     ]
    },
    {
     "name": "stderr",
     "output_type": "stream",
     "text": [
      "training: 100%|██████████| 172/172 [00:13<00:00, 12.74batch/s]\n"
     ]
    },
    {
     "name": "stdout",
     "output_type": "stream",
     "text": [
      "--- 0 seconds calculation of clustering loss per epoch---\n",
      "Reconstruction loss: \t Loss: 0.0192\n",
      "Clustering loss: \t Loss: 0.0351\n",
      "training: \t Epoch 16/24\n"
     ]
    },
    {
     "name": "stderr",
     "output_type": "stream",
     "text": [
      "training: 100%|██████████| 172/172 [00:13<00:00, 12.78batch/s]\n"
     ]
    },
    {
     "name": "stdout",
     "output_type": "stream",
     "text": [
      "--- 0 seconds calculation of clustering loss per epoch---\n",
      "Reconstruction loss: \t Loss: 0.0187\n",
      "Clustering loss: \t Loss: 0.0348\n",
      "training: \t Epoch 17/24\n"
     ]
    },
    {
     "name": "stderr",
     "output_type": "stream",
     "text": [
      "training: 100%|██████████| 172/172 [00:12<00:00, 13.27batch/s]\n"
     ]
    },
    {
     "name": "stdout",
     "output_type": "stream",
     "text": [
      "--- 0 seconds calculation of clustering loss per epoch---\n",
      "Reconstruction loss: \t Loss: 0.0182\n",
      "Clustering loss: \t Loss: 0.0345\n",
      "training: \t Epoch 18/24\n"
     ]
    },
    {
     "name": "stderr",
     "output_type": "stream",
     "text": [
      "training: 100%|██████████| 172/172 [00:13<00:00, 13.12batch/s]\n"
     ]
    },
    {
     "name": "stdout",
     "output_type": "stream",
     "text": [
      "--- 0 seconds calculation of clustering loss per epoch---\n",
      "Reconstruction loss: \t Loss: 0.0178\n",
      "Clustering loss: \t Loss: 0.0341\n",
      "training: \t Epoch 19/24\n"
     ]
    },
    {
     "name": "stderr",
     "output_type": "stream",
     "text": [
      "training: 100%|██████████| 172/172 [00:12<00:00, 13.28batch/s]\n"
     ]
    },
    {
     "name": "stdout",
     "output_type": "stream",
     "text": [
      "--- 0 seconds calculation of clustering loss per epoch---\n",
      "Reconstruction loss: \t Loss: 0.0173\n",
      "Clustering loss: \t Loss: 0.0338\n",
      "training: \t Epoch 20/24\n"
     ]
    },
    {
     "name": "stderr",
     "output_type": "stream",
     "text": [
      "training: 100%|██████████| 172/172 [00:13<00:00, 13.20batch/s]\n"
     ]
    },
    {
     "name": "stdout",
     "output_type": "stream",
     "text": [
      "--- 0 seconds calculation of clustering loss per epoch---\n",
      "Reconstruction loss: \t Loss: 0.0169\n",
      "Clustering loss: \t Loss: 0.0336\n",
      "training: \t Epoch 21/24\n"
     ]
    },
    {
     "name": "stderr",
     "output_type": "stream",
     "text": [
      "training: 100%|██████████| 172/172 [00:13<00:00, 13.23batch/s]\n"
     ]
    },
    {
     "name": "stdout",
     "output_type": "stream",
     "text": [
      "--- 0 seconds calculation of clustering loss per epoch---\n",
      "Reconstruction loss: \t Loss: 0.0165\n",
      "Clustering loss: \t Loss: 0.0334\n",
      "training: \t Epoch 22/24\n"
     ]
    },
    {
     "name": "stderr",
     "output_type": "stream",
     "text": [
      "training: 100%|██████████| 172/172 [00:13<00:00, 12.38batch/s]\n"
     ]
    },
    {
     "name": "stdout",
     "output_type": "stream",
     "text": [
      "--- 0 seconds calculation of clustering loss per epoch---\n",
      "Reconstruction loss: \t Loss: 0.0161\n",
      "Clustering loss: \t Loss: 0.0333\n",
      "training: \t Epoch 23/24\n"
     ]
    },
    {
     "name": "stderr",
     "output_type": "stream",
     "text": [
      "training: 100%|██████████| 172/172 [00:12<00:00, 13.44batch/s]\n"
     ]
    },
    {
     "name": "stdout",
     "output_type": "stream",
     "text": [
      "--- 0 seconds calculation of clustering loss per epoch---\n",
      "Reconstruction loss: \t Loss: 0.0157\n",
      "Clustering loss: \t Loss: 0.0331\n",
      "training: \t Epoch 24/24\n"
     ]
    },
    {
     "name": "stderr",
     "output_type": "stream",
     "text": [
      "training: 100%|██████████| 172/172 [00:13<00:00, 12.59batch/s]"
     ]
    },
    {
     "name": "stdout",
     "output_type": "stream",
     "text": [
      "--- 0 seconds calculation of clustering loss per epoch---\n",
      "Reconstruction loss: \t Loss: 0.0154\n",
      "Clustering loss: \t Loss: 0.0330\n",
      "Pretraining complete in 5m 36s\n"
     ]
    },
    {
     "name": "stderr",
     "output_type": "stream",
     "text": [
      "\n"
     ]
    }
   ],
   "source": [
    "train_config = {\n",
    "    'num_warmup_epochs': 4,\n",
    "    'num_train_epochs': 20,\n",
    "    'clustring_loss_type': 'distance_based', # KLDivLoss, distance_based\n",
    "    'num_workers': 12,\n",
    "    'batch_size': 1024,\n",
    "    'num_clusters': 10,\n",
    "    'update_target_dist_epochs': 5,\n",
    "    'clustering_loss_coeff': 0.1,\n",
    "    'device': device\n",
    "}\n",
    "\n",
    "model = AE_CNN_1D()\n",
    "model.to(device)\n",
    "\n",
    "train_dataset = LabeledGhentDataset(LABELED_DATASET_PATH, transform=torch.tensor, scale=True)\n",
    "optimizer = optim.AdamW(model.parameters(), lr=1e-5)\n",
    "\n",
    "# Reconstruction loss\n",
    "criterion = nn.MSELoss()\n",
    "scheduler = optim.lr_scheduler.StepLR(optimizer, step_size=200, gamma=0.1)\n",
    "\n",
    "model, loss, c_loss, cluster_centres \\\n",
    "= train(model, train_dataset, criterion, scheduler, optimizer, train_config)"
   ]
  },
  {
   "cell_type": "code",
   "execution_count": 12,
   "id": "67eb56b0-6b4d-4e4f-b919-2e234cb4fb56",
   "metadata": {},
   "outputs": [],
   "source": [
    "features = extract_features(model, train_dataset, train_config)\n",
    "kmeans = MiniBatchKMeans(\n",
    "        n_clusters=train_config['num_clusters'], \n",
    "        batch_size=256,\n",
    "        init_size=3*train_config['num_clusters'], \n",
    "        n_init=3)\n",
    "labels = kmeans.fit_predict(features)"
   ]
  },
  {
   "cell_type": "code",
   "execution_count": 13,
   "id": "29bb26df-34e3-4037-8417-b9fb7be4e787",
   "metadata": {},
   "outputs": [
    {
     "data": {
      "text/plain": [
       "(<Figure size 640x480 with 1 Axes>, <Axes: >)"
      ]
     },
     "execution_count": 13,
     "metadata": {},
     "output_type": "execute_result"
    },
    {
     "data": {
      "image/png": "[encoded data removed]",
      "text/plain": [
       "<Figure size 640x480 with 1 Axes>"
      ]
     },
     "metadata": {},
     "output_type": "display_data"
    }
   ],
   "source": [
    "selected_ids = np.random.choice(len(train_dataset), size = 10000)\n",
    "plot_tsne(labels[selected_ids], features[selected_ids])"
   ]
  },
  {
   "cell_type": "code",
   "execution_count": null,
   "id": "9903314d-68db-47dc-9da7-755d28790ec9",
   "metadata": {
    "editable": true,
    "slideshow": {
     "slide_type": ""
    },
    "tags": []
   },
   "outputs": [],
   "source": []
  }
 ],
 "metadata": {
  "kernelspec": {
   "display_name": "Python 3 (ipykernel)",
   "language": "python",
   "name": "python3"
  },
  "language_info": {
   "codemirror_mode": {
    "name": "ipython",
    "version": 3
   },
   "file_extension": ".py",
   "mimetype": "text/x-python",
   "name": "python",
   "nbconvert_exporter": "python",
   "pygments_lexer": "ipython3",
   "version": "3.11.6"
  }
 },
 "nbformat": 4,
 "nbformat_minor": 5
}
